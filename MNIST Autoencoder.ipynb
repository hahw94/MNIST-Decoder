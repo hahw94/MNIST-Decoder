{
 "cells": [
  {
   "cell_type": "code",
   "execution_count": 1,
   "metadata": {},
   "outputs": [
    {
     "name": "stdout",
     "output_type": "stream",
     "text": [
      "WARNING:tensorflow:From <ipython-input-1-0c99d189289a>:10: read_data_sets (from tensorflow.contrib.learn.python.learn.datasets.mnist) is deprecated and will be removed in a future version.\n",
      "Instructions for updating:\n",
      "Please use alternatives such as official/mnist/dataset.py from tensorflow/models.\n",
      "WARNING:tensorflow:From C:\\Users\\Seo\\.conda\\envs\\cuda\\lib\\site-packages\\tensorflow\\contrib\\learn\\python\\learn\\datasets\\mnist.py:260: maybe_download (from tensorflow.contrib.learn.python.learn.datasets.base) is deprecated and will be removed in a future version.\n",
      "Instructions for updating:\n",
      "Please write your own downloading logic.\n",
      "WARNING:tensorflow:From C:\\Users\\Seo\\.conda\\envs\\cuda\\lib\\site-packages\\tensorflow\\contrib\\learn\\python\\learn\\datasets\\mnist.py:262: extract_images (from tensorflow.contrib.learn.python.learn.datasets.mnist) is deprecated and will be removed in a future version.\n",
      "Instructions for updating:\n",
      "Please use tf.data to implement this functionality.\n",
      "Extracting MNIST_data\\train-images-idx3-ubyte.gz\n",
      "WARNING:tensorflow:From C:\\Users\\Seo\\.conda\\envs\\cuda\\lib\\site-packages\\tensorflow\\contrib\\learn\\python\\learn\\datasets\\mnist.py:267: extract_labels (from tensorflow.contrib.learn.python.learn.datasets.mnist) is deprecated and will be removed in a future version.\n",
      "Instructions for updating:\n",
      "Please use tf.data to implement this functionality.\n",
      "Extracting MNIST_data\\train-labels-idx1-ubyte.gz\n",
      "Extracting MNIST_data\\t10k-images-idx3-ubyte.gz\n",
      "Extracting MNIST_data\\t10k-labels-idx1-ubyte.gz\n",
      "WARNING:tensorflow:From C:\\Users\\Seo\\.conda\\envs\\cuda\\lib\\site-packages\\tensorflow\\contrib\\learn\\python\\learn\\datasets\\mnist.py:290: DataSet.__init__ (from tensorflow.contrib.learn.python.learn.datasets.mnist) is deprecated and will be removed in a future version.\n",
      "Instructions for updating:\n",
      "Please use alternatives such as official/mnist/dataset.py from tensorflow/models.\n",
      "WARNING:tensorflow:From C:\\Users\\Seo\\.conda\\envs\\cuda\\lib\\site-packages\\tensorflow\\python\\framework\\op_def_library.py:263: colocate_with (from tensorflow.python.framework.ops) is deprecated and will be removed in a future version.\n",
      "Instructions for updating:\n",
      "Colocations handled automatically by placer.\n",
      "WARNING:tensorflow:From <ipython-input-1-0c99d189289a>:58: conv2d (from tensorflow.python.layers.convolutional) is deprecated and will be removed in a future version.\n",
      "Instructions for updating:\n",
      "Use keras.layers.conv2d instead.\n",
      "Period: 0001 cost = 0.152099118\n",
      "Period: 0002 cost = 0.112107180\n",
      "Period: 0003 cost = 0.105093636\n",
      "Period: 0004 cost = 0.096562952\n",
      "Period: 0005 cost = 0.094783925\n",
      "Period: 0006 cost = 0.093436874\n",
      "Period: 0007 cost = 0.091147348\n",
      "Period: 0008 cost = 0.097013973\n",
      "Period: 0009 cost = 0.092778392\n",
      "Period: 0010 cost = 0.094497159\n",
      "Period: 0011 cost = 0.089034587\n",
      "Period: 0012 cost = 0.092246987\n",
      "Period: 0013 cost = 0.085133232\n",
      "Period: 0014 cost = 0.086490840\n",
      "Period: 0015 cost = 0.084537692\n",
      "Period: 0016 cost = 0.084674872\n",
      "Period: 0017 cost = 0.084041439\n",
      "Period: 0018 cost = 0.089416713\n",
      "Period: 0019 cost = 0.090215579\n",
      "Period: 0020 cost = 0.086848862\n"
     ]
    }
   ],
   "source": [
    "import numpy as np\n",
    "import tensorflow as tf\n",
    "import matplotlib.pyplot as plt\n",
    "import librosa\n",
    "import random\n",
    "from sklearn.preprocessing import OneHotEncoder\n",
    "from tensorflow.examples.tutorials.mnist import input_data\n",
    "\n",
    "\n",
    "mnist = input_data.read_data_sets('MNIST_data', validation_size=0)\n",
    "\n",
    "training_rate = 0.001\n",
    "\n",
    "\n",
    "inputs_ = tf.placeholder(tf.float32, (None, 28, 28, 1), name='inputs')\n",
    "targets_ = tf.placeholder(tf.float32, (None, 28, 28, 1), name='targets')\n",
    "\n",
    "W1 = tf.Variable(tf.random_normal([3,3,1,32], stddev=0.01))\n",
    "L1 = tf.nn.conv2d(inputs_, W1, strides=[1,1,1,1], padding='SAME')\n",
    "L1 = tf.nn.leaky_relu(L1)\n",
    "L1 = tf.nn.max_pool(L1, ksize=[1,2,2,1], strides=[1,2,2,1], padding = 'SAME')\n",
    "# 현재 크기 : 14x14x32\n",
    "\n",
    "W2 = tf.Variable(tf.random_normal([3,3,32,64], stddev=0.01))\n",
    "L2 = tf.nn.conv2d(L1, W2, strides=[1,1,1,1], padding='SAME')\n",
    "L2 = tf.nn.leaky_relu(L2)\n",
    "L2 = tf.nn.max_pool(L2, ksize=[1,2,2,1], strides=[1,2,2,1], padding = 'SAME')\n",
    "# 현재 크기 : 7x7x64\n",
    "\n",
    "W3 = tf.Variable(tf.random_normal([3,3,64,16], stddev=0.01))\n",
    "L3 = tf.nn.conv2d(L2, W3, strides=[1,1,1,1], padding='SAME')\n",
    "L3 = tf.nn.leaky_relu(L3)\n",
    "L3 = tf.nn.max_pool(L3, ksize=[1,2,2,1], strides=[1,2,2,1], padding = 'SAME')\n",
    "# 현재 크기 : 4*4*16\n",
    "\n",
    "## 디코더\n",
    "noise_sample1 = tf.image.resize_nearest_neighbor(L3, (7,7))\n",
    "W4 = tf.Variable(tf.random_normal([3,3,16,16], stddev=0.01))\n",
    "L4 = tf.nn.conv2d(noise_sample1, W4, strides=[1,1,1,1], padding='SAME')\n",
    "L4 = tf.nn.leaky_relu(L4)\n",
    "# 현재 크기 : 7x7x16\n",
    "\n",
    "noise_sample2 = tf.image.resize_nearest_neighbor(L4, (14,14))\n",
    "W5 = tf.Variable(tf.random_normal([3,3,16,32], stddev=0.01))\n",
    "L5 = tf.nn.conv2d(noise_sample2, W5, strides=[1,1,1,1], padding='SAME')\n",
    "L5 = tf.nn.leaky_relu(L5)\n",
    "# 현재 크기 :14x14x32\n",
    "\n",
    "noise_sample3 = tf.image.resize_nearest_neighbor(L5, (28,28))\n",
    "W6 = tf.Variable(tf.random_normal([3,3,32,32], stddev=0.01))\n",
    "L6 = tf.nn.conv2d(noise_sample3, W6, strides=[1,1,1,1], padding='SAME')\n",
    "L6 = tf.nn.leaky_relu(L6)\n",
    "# 현재 크기 : 28x28x32\n",
    "\n",
    "W7 = tf.Variable(tf.random_normal([3,3,32,1], stddev=0.01))\n",
    "L7 = tf.nn.conv2d(L6, W7, strides=[1,1,1,1], padding='SAME')\n",
    "\n",
    "logits = tf.layers.conv2d(L7, 1, (3,3), padding='same', activation=None)\n",
    "# resize를 시켜서 28*28*32로 키운 데이터를 다시 28*28*1로 줄인다.\n",
    "# 학습되어 출력되는 데이터로 이를 원본 이미지와 비교해서 노이즈를 제거하는 학습을 시킴\n",
    "\n",
    "decoded = tf.nn.sigmoid(L7, name='decoded')\n",
    "# 학습된 신경망으로 이 신경망을 가지고 노이즈 이미지들의 노이즈를 제거하는데 이용합니다.\n",
    "\n",
    "loss = tf.nn.sigmoid_cross_entropy_with_logits(labels=targets_, logits=logits)\n",
    "cost = tf.reduce_mean(loss)\n",
    "opt = tf.train.AdamOptimizer(training_rate).minimize(cost)\n",
    "\n",
    "\n",
    "sess = tf.Session()\n",
    "training_period = 20\n",
    "batch_size = 100\n",
    "noise_factor = 0.3\n",
    "# 노이즈의 크기를 조절하는 인수(클수록 노이즈 증가)\n",
    "\n",
    "sess.run(tf.global_variables_initializer())\n",
    "for period in range(training_period):\n",
    "    for ii in range(mnist.train.num_examples//batch_size):\n",
    "        batch = mnist.train.next_batch(batch_size)\n",
    "        imgs = batch[0].reshape((-1, 28, 28, 1))\n",
    "        \n",
    "        # 원본이미지에 노이즈를 더해 input_data를 만듭니다.\n",
    "        noisy_imgs = imgs + noise_factor * np.random.randn(*imgs.shape)\n",
    "        # np.clip을 사용하여 노이즈 이미지의 최솟값을 0 최대값을 1로 정합니다\n",
    "        noisy_imgs = np.clip(noisy_imgs, 0., 1.)\n",
    "        \n",
    "        # 노이즈 이미지를 input_data로 원본 imgs를 target으로 하여 학습을 진행합니다.\n",
    "        batch_cost, _ = sess.run([cost, opt], feed_dict={inputs_: noisy_imgs,\n",
    "                                                         targets_: imgs})\n",
    "\n",
    "    if period % 1 == 0 or period == training_period-1:\n",
    "        print('Period:', '%04d' % (period + 1), 'cost =', '{:.9f}'.format(batch_cost))"
   ]
  },
  {
   "cell_type": "code",
   "execution_count": 5,
   "metadata": {},
   "outputs": [
    {
     "data": {
      "text/plain": [
       "<matplotlib.image.AxesImage at 0x10e03044da0>"
      ]
     },
     "execution_count": 5,
     "metadata": {},
     "output_type": "execute_result"
    },
    {
     "data": {
      "image/png": "[encoded data removed]",
      "text/plain": [
       "<Figure size 432x288 with 1 Axes>"
      ]
     },
     "metadata": {
      "needs_background": "light"
     },
     "output_type": "display_data"
    }
   ],
   "source": [
    "# 이러한 방법을 사용하여 노이즈를 생성해보았습니다.\n",
    "temp_img = mnist.test.images[2]\n",
    "temp_noisy_img = temp_img + 0.3 * np.random.randn(*temp_img.shape)\n",
    "\n",
    "plt.imshow(temp_noisy_img.reshape(28,28), cmap='gray')"
   ]
  },
  {
   "cell_type": "code",
   "execution_count": 6,
   "metadata": {
    "scrolled": false
   },
   "outputs": [
    {
     "data": {
      "image/png": "[encoded data removed]",
      "text/plain": [
       "<Figure size 1440x288 with 20 Axes>"
      ]
     },
     "metadata": {
      "needs_background": "light"
     },
     "output_type": "display_data"
    }
   ],
   "source": [
    "fig, axes = plt.subplots(nrows=2, ncols=10, sharex=True, sharey=True, figsize=(20,4))\n",
    "in_imgs = mnist.test.images[:5000]\n",
    "\n",
    "# 랜덤하게 노이즈를 만듭니다.\n",
    "noisy_imgs = in_imgs + noise_factor * np.random.randn(*in_imgs.shape)\n",
    "noisy_imgs = np.clip(noisy_imgs, 0., 1.)\n",
    "\n",
    "reshape_img = sess.run(decoded, feed_dict={inputs_: noisy_imgs.reshape((-1, 28, 28, 1))})\n",
    "\n",
    "# 노이즈이미지와 docoded신경망을 사용하여 \n",
    "# 노이즈를 제거한 이미지를 비교해보면 아래와 같이 나옵니다.\n",
    "for images, row in zip([noisy_imgs,reshape_img], axes):\n",
    "    for img, ax in zip(images, row):\n",
    "        ax.imshow(img.reshape((28, 28)), cmap='gray')\n",
    "        ax.get_xaxis().set_visible(False)\n",
    "        ax.get_yaxis().set_visible(False)\n",
    "\n",
    "fig.tight_layout(pad = 0.1)"
   ]
  },
  {
   "cell_type": "code",
   "execution_count": 7,
   "metadata": {
    "scrolled": false
   },
   "outputs": [
    {
     "name": "stderr",
     "output_type": "stream",
     "text": [
      "C:\\Users\\Seo\\.conda\\envs\\cuda\\lib\\site-packages\\sklearn\\preprocessing\\_encoders.py:414: FutureWarning: The handling of integer data will change in version 0.22. Currently, the categories are determined based on the range [0, max(values)], while in the future they will be determined based on the unique values.\n",
      "If you want the future behaviour and silence this warning, you can specify \"categories='auto'\".\n",
      "In case you used a LabelEncoder before this OneHotEncoder to convert the categories to integers, then you can now use the OneHotEncoder directly.\n",
      "  warnings.warn(msg, FutureWarning)\n"
     ]
    }
   ],
   "source": [
    "reshape_img = np.reshape(reshape_img,[-1,784])\n",
    "x_data = reshape_img\n",
    "#decode를 통해서 노이즈를 제거한 이미즈를 x_data로 사용하여 \n",
    "#원래의 값과 one_hot방식으로 비교하여 학습을 시켰습니다.\n",
    "\n",
    "y_data = mnist.test.labels[:5000]\n",
    "y_data = np.reshape(y_data,[-1,1])\n",
    "\n",
    "enc = OneHotEncoder()\n",
    "enc.fit(y_data)\n",
    "y_data = enc.transform(y_data).toarray()\n",
    "\n",
    "\n",
    "train_input = x_data\n",
    "train_label = y_data"
   ]
  },
  {
   "cell_type": "code",
   "execution_count": 8,
   "metadata": {
    "scrolled": true
   },
   "outputs": [
    {
     "name": "stdout",
     "output_type": "stream",
     "text": [
      "Extracting MNIST_data/train-images-idx3-ubyte.gz\n",
      "Extracting MNIST_data/train-labels-idx1-ubyte.gz\n",
      "WARNING:tensorflow:From C:\\Users\\Seo\\.conda\\envs\\cuda\\lib\\site-packages\\tensorflow\\contrib\\learn\\python\\learn\\datasets\\mnist.py:110: dense_to_one_hot (from tensorflow.contrib.learn.python.learn.datasets.mnist) is deprecated and will be removed in a future version.\n",
      "Instructions for updating:\n",
      "Please use tf.one_hot on tensors.\n",
      "Extracting MNIST_data/t10k-images-idx3-ubyte.gz\n",
      "Extracting MNIST_data/t10k-labels-idx1-ubyte.gz\n",
      "WARNING:tensorflow:From <ipython-input-8-527fef90618f>:46: softmax_cross_entropy_with_logits (from tensorflow.python.ops.nn_ops) is deprecated and will be removed in a future version.\n",
      "Instructions for updating:\n",
      "\n",
      "Future major versions of TensorFlow will allow gradients to flow\n",
      "into the labels input on backprop by default.\n",
      "\n",
      "See `tf.nn.softmax_cross_entropy_with_logits_v2`.\n",
      "\n",
      "Period: 0001 cost = 2.483227358\n",
      "Period: 0011 cost = 0.210096724\n",
      "Period: 0021 cost = 0.121000941\n",
      "Period: 0031 cost = 0.072778063\n",
      "Period: 0041 cost = 0.056452469\n",
      "Period: 0050 cost = 0.049038023\n",
      "Accuracy: 0.9776\n"
     ]
    }
   ],
   "source": [
    "from tensorflow.examples.tutorials.mnist import input_data\n",
    "\n",
    "\n",
    "mnist = input_data.read_data_sets(\"MNIST_data/\", one_hot=True)\n",
    "\n",
    "tf.reset_default_graph()\n",
    "\n",
    "learning_rate = 0.001\n",
    "training_period = 50\n",
    "batch_size = 200\n",
    "\n",
    "rate = tf.placeholder(tf.float32)\n",
    "\n",
    "X = tf.placeholder(tf.float32, [None, 784])\n",
    "X_img = tf.reshape(X, [-1, 28, 28, 1])\n",
    "Y = tf.placeholder(tf.float32, [None, 10])\n",
    "\n",
    "W1 = tf.Variable(tf.random_normal([3, 3, 1, 32], stddev=0.01))\n",
    "L1 = tf.nn.conv2d(X_img, W1, strides=[1, 1, 1, 1], padding='SAME')\n",
    "L1 = tf.nn.leaky_relu(L1)\n",
    "L1 = tf.nn.max_pool(L1, ksize=[1, 2, 2, 1], strides=[1, 2, 2, 1], padding='SAME')\n",
    "L1 = tf.nn.dropout(L1, rate=rate)\n",
    "\n",
    "W2 = tf.Variable(tf.random_normal([3, 3, 32, 128], stddev=0.01))\n",
    "L2 = tf.nn.conv2d(L1, W2, strides=[1, 1, 1, 1], padding='SAME')\n",
    "L2 = tf.nn.leaky_relu(L2)\n",
    "L2 = tf.nn.max_pool(L2, ksize=[1, 2, 2, 1], strides=[1, 2, 2, 1], padding='SAME')\n",
    "L2 = tf.nn.dropout(L2, rate=rate)\n",
    "\n",
    "W3 = tf.Variable(tf.random_normal([3, 3, 128, 64], stddev=0.01))\n",
    "L3 = tf.nn.conv2d(L2, W3, strides=[1, 1, 1, 1], padding='SAME')\n",
    "L3 = tf.nn.leaky_relu(L3)\n",
    "L3 = tf.nn.max_pool(L3, ksize=[1, 2, 2, 1], strides=[1, 2, 2, 1], padding='SAME')\n",
    "L3 = tf.nn.dropout(L3, rate=rate)\n",
    "L3_flat = tf.reshape(L3, [-1, 64 * 4 * 4])\n",
    "\n",
    "W4 = tf.get_variable(\"W4\", shape=[64 * 4 * 4, 256],initializer=tf.contrib.layers.xavier_initializer())\n",
    "b4 = tf.Variable(tf.random_normal([256]))\n",
    "L4 = tf.nn.leaky_relu(tf.matmul(L3_flat, W4) + b4)\n",
    "L4 = tf.nn.dropout(L4, rate=rate)\n",
    "\n",
    "W5 = tf.get_variable(\"W5\", shape=[256, 10], initializer=tf.contrib.layers.xavier_initializer())\n",
    "b5 = tf.Variable(tf.random_normal([10]))\n",
    "logits = tf.matmul(L4, W5) + b5\n",
    "\n",
    "cost = tf.reduce_mean(tf.nn.softmax_cross_entropy_with_logits(logits=logits, labels=Y))\n",
    "optimizer = tf.train.AdamOptimizer(learning_rate=learning_rate).minimize(cost)\n",
    "\n",
    "sess = tf.Session()\n",
    "sess.run(tf.global_variables_initializer())\n",
    "\n",
    "for period in range(training_period):\n",
    "    avg_cost = 0\n",
    "    total_batch = int(5000 / batch_size)\n",
    "\n",
    "    for i in range(total_batch):\n",
    "        start = ((i+1) * batch_size) - batch_size\n",
    "        end = ((i+1) * batch_size)\n",
    "        batch_xs = train_input[start:end]\n",
    "        batch_ys = train_label[start:end]\n",
    "        feed_dict = {X: batch_xs, Y: batch_ys, rate : 0.3}\n",
    "        c, _ = sess.run([cost, optimizer], feed_dict=feed_dict)\n",
    "        avg_cost += c / total_batch\n",
    "    if period % 10 == 0 or period == training_period-1:\n",
    "        print('Period:', '%04d' % (period + 1), 'cost =', '{:.9f}'.format(avg_cost))\n",
    "\n",
    "correct_prediction = tf.equal(tf.argmax(logits, 1), tf.argmax(Y, 1))\n",
    "accuracy = tf.reduce_mean(tf.cast(correct_prediction, tf.float32))\n",
    "print('Accuracy:', sess.run(accuracy, feed_dict={X: mnist.test.images[5000:], Y: mnist.test.labels[5000:], rate: 0}))"
   ]
  },
  {
   "cell_type": "code",
   "execution_count": null,
   "metadata": {},
   "outputs": [],
   "source": []
  }
 ],
 "metadata": {
  "kernelspec": {
   "display_name": "cuda",
   "language": "python",
   "name": "cuda"
  },
  "language_info": {
   "codemirror_mode": {
    "name": "ipython",
    "version": 3
   },
   "file_extension": ".py",
   "mimetype": "text/x-python",
   "name": "python",
   "nbconvert_exporter": "python",
   "pygments_lexer": "ipython3",
   "version": "3.7.3"
  }
 },
 "nbformat": 4,
 "nbformat_minor": 2
}
